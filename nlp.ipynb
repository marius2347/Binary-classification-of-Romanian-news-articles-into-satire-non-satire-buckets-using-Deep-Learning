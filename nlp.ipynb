{
 "cells": [
  {
   "cell_type": "code",
   "execution_count": 1,
   "metadata": {},
   "outputs": [],
   "source": [
    "import pandas as pd"
   ]
  },
  {
   "cell_type": "code",
   "execution_count": 3,
   "metadata": {},
   "outputs": [],
   "source": [
    "satire = pd.read_csv('./train.csv')"
   ]
  },
  {
   "cell_type": "code",
   "execution_count": 4,
   "metadata": {},
   "outputs": [
    {
     "data": {
      "text/html": [
       "<div>\n",
       "<style scoped>\n",
       "    .dataframe tbody tr th:only-of-type {\n",
       "        vertical-align: middle;\n",
       "    }\n",
       "\n",
       "    .dataframe tbody tr th {\n",
       "        vertical-align: top;\n",
       "    }\n",
       "\n",
       "    .dataframe thead th {\n",
       "        text-align: right;\n",
       "    }\n",
       "</style>\n",
       "<table border=\"1\" class=\"dataframe\">\n",
       "  <thead>\n",
       "    <tr style=\"text-align: right;\">\n",
       "      <th></th>\n",
       "      <th>id</th>\n",
       "      <th>title</th>\n",
       "      <th>content</th>\n",
       "      <th>class</th>\n",
       "    </tr>\n",
       "  </thead>\n",
       "  <tbody>\n",
       "    <tr>\n",
       "      <th>0</th>\n",
       "      <td>0</td>\n",
       "      <td>PSD în alertă</td>\n",
       "      <td>Prăbușirea PSD de la altitudinea sigură a celo...</td>\n",
       "      <td>True</td>\n",
       "    </tr>\n",
       "    <tr>\n",
       "      <th>1</th>\n",
       "      <td>1</td>\n",
       "      <td>În amintirea Vioricăi, milioane de români beau...</td>\n",
       "      <td>Moțiunea de cenzură care a doborât guvernul Dă...</td>\n",
       "      <td>True</td>\n",
       "    </tr>\n",
       "    <tr>\n",
       "      <th>2</th>\n",
       "      <td>2</td>\n",
       "      <td>Dramă! Când credea că nu se poate mai rău, un ...</td>\n",
       "      <td>Credeai că ai ajuns la fundul sacului? Înseamn...</td>\n",
       "      <td>True</td>\n",
       "    </tr>\n",
       "    <tr>\n",
       "      <th>3</th>\n",
       "      <td>3</td>\n",
       "      <td>Spania - România, 5-0. „Tricolorii”, îngenunch...</td>\n",
       "      <td>Echipa națională a României a fost umilită, lu...</td>\n",
       "      <td>False</td>\n",
       "    </tr>\n",
       "    <tr>\n",
       "      <th>4</th>\n",
       "      <td>4</td>\n",
       "      <td>Campanie electorală, veselie generală</td>\n",
       "      <td>Toate cresc în campania electorală, cît n-au c...</td>\n",
       "      <td>True</td>\n",
       "    </tr>\n",
       "  </tbody>\n",
       "</table>\n",
       "</div>"
      ],
      "text/plain": [
       "   id                                              title  \\\n",
       "0   0                                      PSD în alertă   \n",
       "1   1  În amintirea Vioricăi, milioane de români beau...   \n",
       "2   2  Dramă! Când credea că nu se poate mai rău, un ...   \n",
       "3   3  Spania - România, 5-0. „Tricolorii”, îngenunch...   \n",
       "4   4              Campanie electorală, veselie generală   \n",
       "\n",
       "                                             content  class  \n",
       "0  Prăbușirea PSD de la altitudinea sigură a celo...   True  \n",
       "1  Moțiunea de cenzură care a doborât guvernul Dă...   True  \n",
       "2  Credeai că ai ajuns la fundul sacului? Înseamn...   True  \n",
       "3  Echipa națională a României a fost umilită, lu...  False  \n",
       "4  Toate cresc în campania electorală, cît n-au c...   True  "
      ]
     },
     "execution_count": 4,
     "metadata": {},
     "output_type": "execute_result"
    }
   ],
   "source": [
    "satire.head()"
   ]
  },
  {
   "cell_type": "code",
   "execution_count": 37,
   "metadata": {},
   "outputs": [
    {
     "data": {
      "text/plain": [
       "'Prăbușirea PSD de la altitudinea sigură a celor 70% în incertitudinea legată de păstrarea guvernării a stîrnit groază în partid. Vulnerabil, instabil și pus în fața propriei prostii, PSD duce o luptă vizibilă cu depresia. Baronii fornăie ca o turmă cuprinsă de neliniște, pe care un singur zgomot brusc o poate pune pe fugă. Socotelile sînt clare: dacă pierde președinția, USD pierde tot, iar coșmarul revenirii lui Băsescu la putere pe căi democratice devine tot mai palpabil. Consultanții Sultănoiu, Teodorescu, Palada și Dîncu caută febrili o candidatură pentru Cotroceni, fiindcă Ponta n-ar vrea să lase guvernul. Pe de altă parte, sondajele estimează o victorie a Pisicului azi, dar nu și în noiembrie. Oprescu și Isărescu sînt plimbați prin fața eșantioanelor naționale, dar nici unul nu prezintă garanții destule partidului. Partidul dorește să-și vadă liderul pe tron, iar liderul înțelege că, dacă nu-și asumă responsabilitatea candidaturii, autoritatea i se fîsîie. În sfîrșit, imbecilii care au stăruit ca PSD să acapareze cît mai multe ministere prin ruperea USL văd grozăvia în care se găsește viitorul lor politic. În cazul în care va fi forțat să candideze, Ponta ia în calcul o ieșire din funcția de premier prin august, ca să se dedice campaniei și ca să se îndepărteze de ura firească pe care o trezește Guvernul. Postul ar rămîne în posesia unui vicepremier, probabil Dragnea, care să atragă fulgerele nemulțumirii asupra lui. Pe scurt, spaima în care se zbate PSD nu e egalată decît de veselia inconștientă a PNL.'"
      ]
     },
     "execution_count": 37,
     "metadata": {},
     "output_type": "execute_result"
    }
   ],
   "source": [
    "satire.iloc[0]['content']"
   ]
  },
  {
   "cell_type": "code",
   "execution_count": 38,
   "metadata": {},
   "outputs": [
    {
     "data": {
      "text/plain": [
       "'Echipa națională a României a fost umilită, luni, de selecționata Spaniei în ultimul său meci din grupa F din campania de calificare la Campionatul European din 2020, disputat pe stadionul „Wanda Metropolitano”. A fost 5-0 pentru gazde, cu 4-0 la pauză. De 57 de ani România nu a mai fost condusă la pauză la un asemenea scor. Jucătorii români nu au mai pierdut un meci cu 5-0 de la partida cu Serbia din martie 2010. Putea fi și mai rău. Pe Wanda Metropolitano, spaniolii au mai avut un gol anulat pentru un fault în atac şi două bare. A fost un meci dominat copios de spanioli, în care românii au fost șterși și abia au avut câteva ocazii să se apropie de poarta adversarilor. Asta cu toate că în tribune au fost câteva mii de români, care s-au auzit, când și când, încurajându-i cu însuflețire. Jucătorii români rataseră calificarea din preliminarii încă de la etapa trecută, când au pierdut acasă, scor 0-2, cu Suedia. Selecţionerul Cosmin Contra a lăsat să se înţeleagă că va părăsi conducerea tehnică a echipei naţionale a României, după înfrângerea cu Spania. „Decizia a fost luată înainte de meci, dar vi se va comunica când se decide că se poate comunica. O să o aflaţi”, a spus Cosmin Contra, intervievat după meci de Pro TV. Federația Română de Fotbal are mai multe variante de înlocuire a lui Cosmin Contra. Pe lângă Dan Petrescu, Gică Hagi și Mircea Lucescu, Mirel Rădoi, antrenorul „tricolorilor mici”, este o propunere viabilă pentru a veni la națională pentru barajul din Liga Națiunilor. Totuși, mai există o speranță: naționala are încă o șansă să se califice la EURO 2020 dacă, în martie, va câştiga play-off-ul din Liga Naţiunilor. Tragerea la sorţi a play-off-ului pentru Liga Naţiunilor va avea loc, vineri, de la ora 13.00, la Nyon. România va juca semifinala, în deplasare, împotriva Islandei sau Scoţiei. Dacă tricolorii joacă semifinala cu Scoţia, finala o va disputa cu câştigătoarea dintre Norvegia și Serbia. Dacă România va juca semifinala cu Islanda, adversara din finală va fi stabilită dintre mai multe echipe. Spania - 26 de puncte Suedia - 21 de puncte Norvegia - 17 puncte România - 14 puncte Insulele Feroe - 3 puncte Malta - 3 puncte ACTUALIZARE 23:36. Fluier final Spania - România, scor 5-0. ACTUALIZARE 23:34. În minutul 90, Spania înscrie din nou: 5-0. Oyarzabal a marcat cu un şut plasat de la 17 metri. ACTUALIZARE 22: 40 - România este condusă cu 4-0 la pauză de Spania, în ultimul meci din preliminariile Campionatului European din 2020. Ibericii au dominat primele 45 de minute și au expediat de cinci ori balonul pe spațiul porții apărate de Ciprian Tătărușanu. Au deschis scorul la opt minute de la fluierul de start, prin Fabian Ruiz, după o gafă colectivă în apărarea României. În minutul 33, scorul a devenit 2-0, după reușita lui Gerard Moreno, același care a marcat și al treilea gol, în minutul 43. Scorul pauzei a fost stabilit în prelungiri, minutul 45+1, după autogolul lui Adrian Rus. Tot în grupa României se mai joacă partidele Suedia – Insulele Feroe (1-0 la pauză) și Malta – Norvegia (1-1 la pauză). Pe 1 noiembrie 1962, Spania învingea Romania cu 6-0. Scorul la pauză era 4-0. A fost ultima dată când România a luat patru goluri în prima repriză, scrie gsp.ro. Știrea inițială: Înaintea acestui joc, tricolorii au ratat calificarea la turneu final, după eșecul suferit pe Național Arena în fața Suediei, scor 0-2. Echipele de start: Spania: Kepa – Jesus Navas, Albiol, Ramos, Bernat – Ruiz, Busquets, Saul – Oyarzabal, Morata, Alcacer Rezerve: De Gea, P. Lopez, Carvajal, I. Martinez, P. Torres, Thiago, Sarabia, Dani Olmo, Rodri, Gaya, G. Moreno, Cazorla Antrenor: Robert Moreno România: Tătărușanu - Romario Benzar, Adrian Rus, Nedelcearu, AlinToșca - Tudor Băluță, Răzvan Marin - Ianis Hagi, Nicușor Stanciu, Florinel Coman - George PușcașRezerve: S. Lung, Fl. Niță, Ad. Rus, Fl. Coman, Bancu, Keșeru, Mogoș, C. Deac, Alibec, I. Cristea, Cicâldău, Budescu Antrenor: Cosmin Contra Potrivit FRF, la meci sunt așteptați peste 12.000 de suporteri români. Editor web: Liviu Cojan'"
      ]
     },
     "execution_count": 38,
     "metadata": {},
     "output_type": "execute_result"
    }
   ],
   "source": [
    "satire.iloc[3]['content']"
   ]
  },
  {
   "cell_type": "code",
   "execution_count": 5,
   "metadata": {},
   "outputs": [
    {
     "data": {
      "text/html": [
       "<div>\n",
       "<style scoped>\n",
       "    .dataframe tbody tr th:only-of-type {\n",
       "        vertical-align: middle;\n",
       "    }\n",
       "\n",
       "    .dataframe tbody tr th {\n",
       "        vertical-align: top;\n",
       "    }\n",
       "\n",
       "    .dataframe thead th {\n",
       "        text-align: right;\n",
       "    }\n",
       "</style>\n",
       "<table border=\"1\" class=\"dataframe\">\n",
       "  <thead>\n",
       "    <tr style=\"text-align: right;\">\n",
       "      <th></th>\n",
       "      <th>id</th>\n",
       "    </tr>\n",
       "  </thead>\n",
       "  <tbody>\n",
       "    <tr>\n",
       "      <th>count</th>\n",
       "      <td>70575.000000</td>\n",
       "    </tr>\n",
       "    <tr>\n",
       "      <th>mean</th>\n",
       "      <td>35287.000000</td>\n",
       "    </tr>\n",
       "    <tr>\n",
       "      <th>std</th>\n",
       "      <td>20373.391961</td>\n",
       "    </tr>\n",
       "    <tr>\n",
       "      <th>min</th>\n",
       "      <td>0.000000</td>\n",
       "    </tr>\n",
       "    <tr>\n",
       "      <th>25%</th>\n",
       "      <td>17643.500000</td>\n",
       "    </tr>\n",
       "    <tr>\n",
       "      <th>50%</th>\n",
       "      <td>35287.000000</td>\n",
       "    </tr>\n",
       "    <tr>\n",
       "      <th>75%</th>\n",
       "      <td>52930.500000</td>\n",
       "    </tr>\n",
       "    <tr>\n",
       "      <th>max</th>\n",
       "      <td>70574.000000</td>\n",
       "    </tr>\n",
       "  </tbody>\n",
       "</table>\n",
       "</div>"
      ],
      "text/plain": [
       "                 id\n",
       "count  70575.000000\n",
       "mean   35287.000000\n",
       "std    20373.391961\n",
       "min        0.000000\n",
       "25%    17643.500000\n",
       "50%    35287.000000\n",
       "75%    52930.500000\n",
       "max    70574.000000"
      ]
     },
     "execution_count": 5,
     "metadata": {},
     "output_type": "execute_result"
    }
   ],
   "source": [
    "satire.describe()"
   ]
  },
  {
   "cell_type": "code",
   "execution_count": 6,
   "metadata": {},
   "outputs": [
    {
     "data": {
      "text/plain": [
       "id         70575\n",
       "title      70574\n",
       "content    69142\n",
       "class      70575\n",
       "dtype: int64"
      ]
     },
     "execution_count": 6,
     "metadata": {},
     "output_type": "execute_result"
    }
   ],
   "source": [
    "satire.count()"
   ]
  },
  {
   "cell_type": "code",
   "execution_count": 9,
   "metadata": {},
   "outputs": [
    {
     "data": {
      "text/plain": [
       "id            0\n",
       "title         1\n",
       "content    1433\n",
       "class         0\n",
       "dtype: int64"
      ]
     },
     "execution_count": 9,
     "metadata": {},
     "output_type": "execute_result"
    }
   ],
   "source": [
    "satire.isna().sum()"
   ]
  },
  {
   "cell_type": "code",
   "execution_count": 11,
   "metadata": {},
   "outputs": [
    {
     "data": {
      "text/html": [
       "<div>\n",
       "<style scoped>\n",
       "    .dataframe tbody tr th:only-of-type {\n",
       "        vertical-align: middle;\n",
       "    }\n",
       "\n",
       "    .dataframe tbody tr th {\n",
       "        vertical-align: top;\n",
       "    }\n",
       "\n",
       "    .dataframe thead th {\n",
       "        text-align: right;\n",
       "    }\n",
       "</style>\n",
       "<table border=\"1\" class=\"dataframe\">\n",
       "  <thead>\n",
       "    <tr style=\"text-align: right;\">\n",
       "      <th></th>\n",
       "      <th>id</th>\n",
       "      <th>title</th>\n",
       "      <th>content</th>\n",
       "      <th>class</th>\n",
       "    </tr>\n",
       "  </thead>\n",
       "  <tbody>\n",
       "  </tbody>\n",
       "</table>\n",
       "</div>"
      ],
      "text/plain": [
       "Empty DataFrame\n",
       "Columns: [id, title, content, class]\n",
       "Index: []"
      ]
     },
     "execution_count": 11,
     "metadata": {},
     "output_type": "execute_result"
    }
   ],
   "source": [
    "filt = (satire['title'].isna() & satire['content'].isna())\n",
    "satire[filt]"
   ]
  },
  {
   "cell_type": "code",
   "execution_count": 33,
   "metadata": {},
   "outputs": [
    {
     "name": "stdout",
     "output_type": "stream",
     "text": [
      "5551    Autoritățile anunță că au fost confirmate încă...\n",
      "Name: content, dtype: object\n"
     ]
    }
   ],
   "source": [
    "max_length = satire['content'].apply(lambda x: len(x) if pd.notna(x) else 0).max()\n",
    "filt = satire['content'].apply(lambda x: len(x) if pd.notna(x) else 0) == max_length\n",
    "print(satire[filt]['content'])"
   ]
  },
  {
   "cell_type": "code",
   "execution_count": null,
   "metadata": {},
   "outputs": [],
   "source": [
    "min_length= satire['content'].apply(lambda x: len(x) if pd.notna(x) else 0).max()\n",
    "filt = satire['content'].apply(lambda x: len(x) if pd.notna(x) else 0) == max_length\n",
    "print(satire[filt]['content'])"
   ]
  }
 ],
 "metadata": {
  "kernelspec": {
   "display_name": "Python 3",
   "language": "python",
   "name": "python3"
  },
  "language_info": {
   "codemirror_mode": {
    "name": "ipython",
    "version": 3
   },
   "file_extension": ".py",
   "mimetype": "text/x-python",
   "name": "python",
   "nbconvert_exporter": "python",
   "pygments_lexer": "ipython3",
   "version": "3.10.13"
  }
 },
 "nbformat": 4,
 "nbformat_minor": 2
}
